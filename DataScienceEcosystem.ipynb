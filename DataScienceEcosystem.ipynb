{
 "cells": [
  {
   "cell_type": "markdown",
   "id": "44889aa4-9cfb-418f-830f-bb3e855836e1",
   "metadata": {},
   "source": [
    "# Data Science Tools and Ecosystem"
   ]
  },
  {
   "cell_type": "markdown",
   "id": "a107e0f8-df1a-40db-86c8-18a50ffb7afb",
   "metadata": {},
   "source": [
    "In this notebook, we will come to summarize about Data Science Tools and Ecosystem that we had learned in this course."
   ]
  },
  {
   "cell_type": "markdown",
   "id": "5a3eb64c-91e4-4833-84d3-8f2da7b7d944",
   "metadata": {},
   "source": [
    "**Objectives:**\n",
    "- Data Science languages\n",
    "- Data Science libraries\n",
    "- Some Python's arithmetic expression"
   ]
  },
  {
   "cell_type": "markdown",
   "id": "20531757-5abc-43f9-83c3-e18397504dc3",
   "metadata": {},
   "source": [
    "Some of the polular languages for Data Science are:\n",
    "1. Python\n",
    "2. R\n",
    "3. Scala\n",
    "4. C++\n",
    "5. Java\n",
    "6. Javascript"
   ]
  },
  {
   "cell_type": "markdown",
   "id": "98c0c083-a4fc-420a-9ccc-3e78dfdf9e18",
   "metadata": {},
   "source": [
    "Some of the commonly used libraries used by Data Scientist are:\n",
    "1. matplotlib (python)\n",
    "2. numpy (python)\n",
    "3. pandas (python)\n",
    "4. ggplot (R)\n",
    "5. tensorflow\n",
    "6. keras\n",
    "7. pytorch"
   ]
  },
  {
   "cell_type": "markdown",
   "id": "9d096432-7357-487c-84f0-1e4d2329137d",
   "metadata": {},
   "source": [
    "Some of the enviroments for Data Scientist are:\n",
    "Data Science Tools |\n",
    "----\n",
    "Jupyter Notebook |\n",
    "Jupyter Lab |\n",
    "R Studio |"
   ]
  },
  {
   "cell_type": "markdown",
   "id": "b62a58c2-1436-4e51-bc8d-fae7af4a1ea9",
   "metadata": {},
   "source": [
    "### Below are a few examples of evaluating arithmetic expression in Python"
   ]
  },
  {
   "cell_type": "code",
   "execution_count": 2,
   "id": "e8527de1-30ee-42d8-84c0-a79b824eb8b6",
   "metadata": {
    "tags": []
   },
   "outputs": [
    {
     "data": {
      "text/plain": [
       "17"
      ]
     },
     "execution_count": 2,
     "metadata": {},
     "output_type": "execute_result"
    }
   ],
   "source": [
    "# This is a simple arithmetic expression to multiply then add intergers\n",
    "(3*4)+5"
   ]
  },
  {
   "cell_type": "code",
   "execution_count": 8,
   "id": "56652a96-dd7d-4eba-98af-53e23c652659",
   "metadata": {
    "tags": []
   },
   "outputs": [
    {
     "name": "stdout",
     "output_type": "stream",
     "text": [
      "3.33 hours\n"
     ]
    }
   ],
   "source": [
    "# This will convert 200 minutes to hours by divising by 60\n",
    "hours_convert = 200 / 60\n",
    "print(f\"{hours_convert:.3} hours\")"
   ]
  },
  {
   "cell_type": "markdown",
   "id": "2e2e57e7-9abf-449d-8ea2-2ee807b5c0e6",
   "metadata": {},
   "source": [
    "## Author\n",
    "&copy; Copyright 2023-2023 HUYNH NHAT, All rights reserved (j4f 🤣)"
   ]
  },
  {
   "cell_type": "code",
   "execution_count": null,
   "id": "75b57796-eb23-46e4-aafd-13f665f82100",
   "metadata": {},
   "outputs": [],
   "source": []
  }
 ],
 "metadata": {
  "kernelspec": {
   "display_name": "Python 3 (ipykernel)",
   "language": "python",
   "name": "python3"
  },
  "language_info": {
   "codemirror_mode": {
    "name": "ipython",
    "version": 3
   },
   "file_extension": ".py",
   "mimetype": "text/x-python",
   "name": "python",
   "nbconvert_exporter": "python",
   "pygments_lexer": "ipython3",
   "version": "3.11.4"
  }
 },
 "nbformat": 4,
 "nbformat_minor": 5
}
